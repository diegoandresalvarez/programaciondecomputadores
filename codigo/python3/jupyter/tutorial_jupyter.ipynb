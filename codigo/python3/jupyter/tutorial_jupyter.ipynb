{
 "cells": [
  {
   "cell_type": "markdown",
   "metadata": {},
   "source": [
    "# Tutorial de Jupyter\n",
    "\n",
    "El **Jupyter Notebook** es una aplicación web de código abierto que le permite crear y compartir documentos que contienen código interactivo, ecuaciones, visualizaciones y texto explicativo. Sus usos incluyen: limpieza y transformación de datos, simulación numérica, modelación estadística, visualización de datos y mucho más.\n",
    "\n",
    "Su nombre viene de tres de los principales lenguajes que soporta:\n",
    "\n",
    "**JUPYTER** = (JU=julia, PY=python, R=lenguaje R)\n",
    "\n",
    "sin embargo soporta más de 40 lenguajes de programación.\n",
    "\n",
    "Fue creado inicialmente por Fernando Pérez en 2001. **Fernando Pérez** nació en Medellín. Es un físico egresado de la Universidad de Antioquia. Estudios de doctorado en la Universidad de Colorado. Actualmente trabaja como profesor en la Universidad de California en Berkeley. En el 2012 recibió  el **Free Software Award** por parte de la *Free Software Foundation*, uno de los máximos galardones que se le otorga a alguien que contribuye al software libre. En el año 2023 recibió la **Medalla de Servicio Público Excepcional** de la *NASA* por su liderazgo del Proyecto Jupyter.\n",
    "\n",
    "<figure style=\"margin: 0; display: inline-block;\">\n",
    "  <img src=\"https://2020.pycon.co/keynotes/fernando-perez/Fernando%20Perez.jpg\" alt=\"Drawing\" style=\"width: 200px;\" title=\"Fernando Pérez\"/>\n",
    "  <figcaption style=\"text-align: center;\">Fernando Pérez</figcaption>\n",
    "</figure>\n",
    "\n",
    "Viene incluído por defecto en la distribución Anaconda https://anaconda.org/\n",
    "\n",
    "Su página oficial es: https://jupyter.org/\n",
    "\n",
    "Documentación: https://docs.jupyter.org/en/latest/. \n",
    "\n",
    "Para saber la versión instalada, mire en `Help>About`.\n",
    "\n",
    "Un ejemplo de las cosas chéveres que se puede hacer con Jupyter es:\n",
    "https://github.com/jupyter/jupyter/wiki/A-gallery-of-interesting-Jupyter-Notebooks"
   ]
  },
  {
   "cell_type": "markdown",
   "metadata": {},
   "source": [
    "## Modos de operación"
   ]
  },
  {
   "cell_type": "markdown",
   "metadata": {},
   "source": [
    "El notebook tiene dos modos: **Modo Editar** y **Modo Comandos**:\n",
    "\n",
    " * El **Modo Comandos** permite cosas como agregar y borrar celdas. Se entra en el con la tecla `ESCAPE`. El color de este modo es *azul*.\n",
    " * El **Modo Editar** permite editar las celdas. Se entra en el con la tecla `ENTER` o dando click en la celda. El color de este modo es *verde*; observe adicionalmente que en la parte superior derecha aparece un pequeño ícono de un lápiz."
   ]
  },
  {
   "cell_type": "markdown",
   "metadata": {},
   "source": [
    "## Algunos atajos\n",
    "\n",
    "Mire la lista de atajos haciendo `Help>Show Keyboard Shortcuts`.\n",
    "\n",
    "<kbd>Ctrl+Shift+C</kbd>: paleta de comandos"
   ]
  },
  {
   "attachments": {},
   "cell_type": "markdown",
   "metadata": {},
   "source": [
    "### Ejecución de celdas"
   ]
  },
  {
   "cell_type": "markdown",
   "metadata": {},
   "source": [
    "En el *modo comandos*:\n",
    "* Ejecutar celda: <kbd>Ctrl+ENTER</kbd>\n",
    "* Ejecutar celdas y seleccionar abajo: <kbd>Shift+ENTER</kbd>\n",
    "* Ejecutar celdas e insertar abajo: <kbd>Alt+ENTER</kbd>"
   ]
  },
  {
   "cell_type": "markdown",
   "metadata": {},
   "source": [
    "### Insertando celdas"
   ]
  },
  {
   "cell_type": "markdown",
   "metadata": {},
   "source": [
    "En el *modo comandos*:\n",
    "* Insertar celda arriba: `A` (above)\n",
    "* Insertar celda abajo: `B` (below)"
   ]
  },
  {
   "cell_type": "markdown",
   "metadata": {},
   "source": [
    "### Borrando celdas"
   ]
  },
  {
   "cell_type": "markdown",
   "metadata": {},
   "source": [
    "En el *modo comandos*:\n",
    "* Borrar celda actual: `DD`\n",
    "* Deshacer el borrado de una celda: `Z`"
   ]
  },
  {
   "cell_type": "markdown",
   "metadata": {},
   "source": [
    "### Copiar, cortar y pegar celdas"
   ]
  },
  {
   "cell_type": "markdown",
   "metadata": {},
   "source": [
    "* Copiar: `C`\n",
    "* Cortar: `X`\n",
    "* Pegar arriba `Shift+V`\n",
    "* Pegar abajo: `V`"
   ]
  },
  {
   "cell_type": "markdown",
   "metadata": {},
   "source": [
    "### Uniendo y dividiendo celdas"
   ]
  },
  {
   "attachments": {},
   "cell_type": "markdown",
   "metadata": {},
   "source": [
    "* Unir: en el *modo comandos* seleccione las celdas y presione `Shift+M`\n",
    "\n",
    "* Dividir: en el *modo editar* ubíquese en el lugar donde se debe crear la división y presione `Ctrl+Shift+(tecla menos)`."
   ]
  },
  {
   "cell_type": "markdown",
   "metadata": {},
   "source": [
    "### Tipos de celdas"
   ]
  },
  {
   "cell_type": "markdown",
   "metadata": {},
   "source": [
    "En el *modo comandos*:\n",
    "* Celda código: `Y`\n",
    "* Celda markdown: `M`\n",
    "* Celda Raw: `R`"
   ]
  },
  {
   "cell_type": "markdown",
   "metadata": {},
   "source": [
    "### Solicitando ayuda en Jupyter"
   ]
  },
  {
   "cell_type": "markdown",
   "metadata": {},
   "source": [
    "La ayuda general se obtiene como:"
   ]
  },
  {
   "cell_type": "code",
   "execution_count": null,
   "metadata": {},
   "outputs": [],
   "source": [
    "?"
   ]
  },
  {
   "cell_type": "markdown",
   "metadata": {},
   "source": [
    "La ayuda sobre un comando como:"
   ]
  },
  {
   "cell_type": "code",
   "execution_count": null,
   "metadata": {},
   "outputs": [],
   "source": [
    "import numpy\n",
    "numpy.linalg.det?"
   ]
  },
  {
   "cell_type": "markdown",
   "metadata": {},
   "source": [
    "Incluso se pueden llamar los comandos mágicos:"
   ]
  },
  {
   "cell_type": "code",
   "execution_count": null,
   "metadata": {},
   "outputs": [],
   "source": [
    "%who?"
   ]
  },
  {
   "cell_type": "markdown",
   "metadata": {},
   "source": [
    "Ayuda más completa sobre un comando, que puede incluir incluso el código fuente, como:"
   ]
  },
  {
   "cell_type": "code",
   "execution_count": null,
   "metadata": {},
   "outputs": [],
   "source": [
    "numpy.linalg.det??"
   ]
  },
  {
   "cell_type": "markdown",
   "metadata": {},
   "source": [
    "En el modo editar:\n",
    "Al escribir un comando y <kbd>Shift+TAB</kbd>, se obtiene un tooltip con la ayuda de esa función."
   ]
  },
  {
   "cell_type": "markdown",
   "metadata": {},
   "source": [
    "O buscando comandos a partir de un pedazo de su nombre:"
   ]
  },
  {
   "cell_type": "code",
   "execution_count": null,
   "metadata": {},
   "outputs": [],
   "source": [
    "*int*?"
   ]
  },
  {
   "cell_type": "code",
   "execution_count": null,
   "metadata": {},
   "outputs": [],
   "source": [
    "import numpy as np\n",
    "np.*array*?"
   ]
  },
  {
   "cell_type": "markdown",
   "metadata": {},
   "source": [
    "Tarjeta de referencia rápida:"
   ]
  },
  {
   "cell_type": "code",
   "execution_count": null,
   "metadata": {},
   "outputs": [],
   "source": [
    "%quickref"
   ]
  },
  {
   "cell_type": "markdown",
   "metadata": {},
   "source": [
    "Completando con la tecla <kbd>Tab</kbd>:"
   ]
  },
  {
   "cell_type": "code",
   "execution_count": null,
   "metadata": {},
   "outputs": [],
   "source": [
    "#np.\n",
    "#np.array_"
   ]
  },
  {
   "cell_type": "markdown",
   "metadata": {},
   "source": [
    "### Trabajando interactivamente con Jupyter"
   ]
  },
  {
   "cell_type": "code",
   "execution_count": null,
   "metadata": {},
   "outputs": [],
   "source": [
    "2+10"
   ]
  },
  {
   "cell_type": "markdown",
   "metadata": {},
   "source": [
    "El `_` se comporta como el `Ans` de la calculadora:"
   ]
  },
  {
   "cell_type": "code",
   "execution_count": null,
   "metadata": {},
   "outputs": [],
   "source": [
    "_"
   ]
  },
  {
   "cell_type": "markdown",
   "metadata": {},
   "source": [
    "Sin embargo, si se quiere referir a la salida de una celda en específico, se puede hacer:"
   ]
  },
  {
   "cell_type": "code",
   "execution_count": null,
   "metadata": {},
   "outputs": [],
   "source": [
    "_9 == Out[9]"
   ]
  },
  {
   "cell_type": "markdown",
   "metadata": {},
   "source": [
    "Mirando la lista de los comandos tecleados:"
   ]
  },
  {
   "cell_type": "code",
   "execution_count": null,
   "metadata": {},
   "outputs": [],
   "source": [
    "%history"
   ]
  },
  {
   "cell_type": "markdown",
   "metadata": {},
   "source": [
    "### Llamando a la consola del sistema operativo:"
   ]
  },
  {
   "cell_type": "markdown",
   "metadata": {},
   "source": [
    "Para ejecutar un comando de la consola, utilice la exclamación:"
   ]
  },
  {
   "cell_type": "code",
   "execution_count": null,
   "metadata": {},
   "outputs": [],
   "source": [
    "! pip list"
   ]
  },
  {
   "cell_type": "markdown",
   "metadata": {},
   "source": [
    "La salida de algunos de estos comando se puede asignar a una variable:"
   ]
  },
  {
   "cell_type": "code",
   "execution_count": null,
   "metadata": {},
   "outputs": [],
   "source": [
    "ruta = !pwd\n",
    "ruta"
   ]
  },
  {
   "cell_type": "code",
   "execution_count": null,
   "metadata": {},
   "outputs": [],
   "source": [
    "archivos = !ls\n",
    "archivos"
   ]
  },
  {
   "cell_type": "markdown",
   "metadata": {},
   "source": [
    "# Markdown\n",
    "\n",
    "Por favor edite la siguiente celda:"
   ]
  },
  {
   "cell_type": "markdown",
   "metadata": {},
   "source": [
    "# Heading\n",
    "\n",
    "## Sub-heading\n",
    "\n",
    "Paragraphs are separated by a blank line.\n",
    "\n",
    "Two spaces at the end of a line produces a line break.\n",
    "Line 1\n",
    "Line 2\n",
    "\n",
    "Text attributes _italic_, **bold** (*o **incluso** ambas*), `monospace`.\n",
    "\n",
    "Horizontal rule:\n",
    "\n",
    "---\n",
    "\n",
    "Bullet list:\n",
    "\n",
    "  * apples\n",
    "    * xxx\n",
    "    * yyy\n",
    "    * zzz\n",
    "  * oranges\n",
    "  * pears\n",
    "\n",
    "Numbered list:\n",
    "\n",
    "  1. wash\n",
    "    1. xxx\n",
    "    2. yyy \n",
    "    3. zzz\n",
    "  2. rinse\n",
    "  3. repeat\n",
    "\n",
    "A [link][example].\n",
    "\n",
    "  [example]: http://example.com\n",
    "\n",
    "Una imagen:\n",
    "![Image](https://www.python.org/static/community_logos/python-logo-inkscape.svg \"icon\")\n",
    "\n",
    "> Markdown uses email-style > characters for blockquoting.\n",
    "\n",
    "Inline <abbr title=\"Hypertext Markup Language\">HTML</abbr> is supported."
   ]
  },
  {
   "cell_type": "markdown",
   "metadata": {},
   "source": [
    "Algunos tutoriales de Markdown:\n",
    "* https://guides.github.com/features/mastering-markdown/\n",
    "* https://github.com/adam-p/markdown-here/wiki/Markdown-Cheatsheet"
   ]
  },
  {
   "cell_type": "markdown",
   "metadata": {},
   "source": [
    "## <font color='red'>Se puede incluir también LaTeX</font> (observe que está en color rojo)"
   ]
  },
  {
   "cell_type": "markdown",
   "metadata": {
    "collapsed": true,
    "jupyter": {
     "outputs_hidden": true
    }
   },
   "source": [
    "Se puede escribir en $\\LaTeX$. Por ejemplo inline $\\int_a^b f(x) \\operatorname{d}\\!x$ o como línea aparte:\n",
    "\\begin{equation}\n",
    "\\int_a^b f(x) \\operatorname{d}\\!x\n",
    "\\end{equation}"
   ]
  },
  {
   "cell_type": "markdown",
   "metadata": {},
   "source": [
    "Incluso se puede utilizar diferentes Unicodes escribiendo su nombre en el formato de LaTeX y luego presionando <kbd>Tab</kbd>. Intente por ejemplo escribir \\alpha y presionar <kbd>Tab</kbd>:"
   ]
  },
  {
   "cell_type": "code",
   "execution_count": null,
   "metadata": {},
   "outputs": [],
   "source": [
    "α = 10"
   ]
  },
  {
   "cell_type": "markdown",
   "metadata": {},
   "source": [
    "Otras cosas chéveres que tiene el jupyter notebook es que puede mostra los `panda` DataFrames de una manera bonita:"
   ]
  },
  {
   "cell_type": "code",
   "execution_count": null,
   "metadata": {},
   "outputs": [],
   "source": [
    "import pandas as pd\n",
    "tables=pd.read_html(\"https://es.wikipedia.org/wiki/Anexo:Municipios_de_Caldas\")\n",
    "tables[0].head()"
   ]
  },
  {
   "cell_type": "markdown",
   "metadata": {},
   "source": [
    "O las ecuaciones de `sympy` bonitas:"
   ]
  },
  {
   "cell_type": "code",
   "execution_count": null,
   "metadata": {},
   "outputs": [],
   "source": [
    "import sympy as sp\n",
    "x, y, z = sp.symbols('x y z')\n",
    "sp.init_printing()\n",
    "\n",
    "sp.Integral(sp.sqrt(1/x), x)"
   ]
  },
  {
   "cell_type": "markdown",
   "metadata": {},
   "source": [
    "# Comandos mágicos"
   ]
  },
  {
   "cell_type": "markdown",
   "metadata": {},
   "source": [
    "https://ipython.readthedocs.io/en/stable/interactive/magics.html"
   ]
  },
  {
   "cell_type": "markdown",
   "metadata": {},
   "source": [
    "Empiezan con `%` (line magics) o con `%%` (cell magics). Dichos comandos se pueden ver usando:"
   ]
  },
  {
   "cell_type": "code",
   "execution_count": null,
   "metadata": {},
   "outputs": [],
   "source": [
    "%lsmagic"
   ]
  },
  {
   "cell_type": "markdown",
   "metadata": {},
   "source": [
    "Por ejemplo:"
   ]
  },
  {
   "cell_type": "code",
   "execution_count": null,
   "metadata": {},
   "outputs": [],
   "source": [
    "%ls"
   ]
  },
  {
   "cell_type": "markdown",
   "metadata": {},
   "source": [
    "Y si necesita la ayuda:"
   ]
  },
  {
   "cell_type": "code",
   "execution_count": null,
   "metadata": {},
   "outputs": [],
   "source": [
    "%pwd?"
   ]
  },
  {
   "cell_type": "code",
   "execution_count": null,
   "metadata": {},
   "outputs": [],
   "source": [
    "%pwd"
   ]
  },
  {
   "cell_type": "markdown",
   "metadata": {},
   "source": [
    "Uno de los line magics más usados es:\n"
   ]
  },
  {
   "cell_type": "code",
   "execution_count": null,
   "metadata": {},
   "outputs": [],
   "source": [
    "%matplotlib inline"
   ]
  },
  {
   "cell_type": "markdown",
   "metadata": {},
   "source": [
    "Con dicho comando, se puede ejercutar la librería `matplotlib` de modo que salgan las figuras en el mismo notebook:"
   ]
  },
  {
   "cell_type": "code",
   "execution_count": null,
   "metadata": {},
   "outputs": [],
   "source": [
    "# Tomado de: https://matplotlib.org/examples/lines_bars_and_markers/line_demo_dash_control.html\n",
    "import numpy as np\n",
    "import matplotlib.pyplot as plt\n",
    "\n",
    "x = np.linspace(1e-10, 10, 500)\n",
    "dashes = [10, 5, 100, 5]  # 10 points on, 5 off, 100 on, 5 off\n",
    "\n",
    "fig, ax = plt.subplots()\n",
    "line1, = ax.plot(x, np.cos(x), '--', linewidth=2, label='f(x) = cos(x)')\n",
    "line1.set_dashes(dashes)\n",
    "\n",
    "line2, = ax.plot(x, np.sin(x)/x, dashes=[30, 5, 10, 5], label=r'$f(x) = \\frac{\\sin(x)}{x}$')\n",
    "\n",
    "ax.legend(loc='lower right')\n",
    "plt.show()"
   ]
  },
  {
   "cell_type": "markdown",
   "metadata": {},
   "source": [
    "Si uno necesita ejecutar un comando de la consola hace:"
   ]
  },
  {
   "cell_type": "code",
   "execution_count": null,
   "metadata": {},
   "outputs": [],
   "source": [
    "! ls # equivalente a \"\"%system ls\""
   ]
  },
  {
   "cell_type": "code",
   "execution_count": null,
   "metadata": {},
   "outputs": [],
   "source": [
    "%system ls"
   ]
  },
  {
   "cell_type": "markdown",
   "metadata": {},
   "source": [
    "Mire ahora el uso de la celda mágica `%%HTML`:"
   ]
  },
  {
   "cell_type": "code",
   "execution_count": null,
   "metadata": {},
   "outputs": [],
   "source": [
    "%%HTML\n",
    "<iframe width=\"560\" height=\"315\" src=\"https://www.youtube.com/embed/NBZBjEjN-rU\" frameborder=\"0\" allow=\"accelerometer; autoplay; encrypted-media; gyroscope; picture-in-picture\" allowfullscreen></iframe>"
   ]
  },
  {
   "cell_type": "markdown",
   "metadata": {},
   "source": [
    "Se puede también medir tiempos de ejecución de una sola línea o de una celda, lo cual sirve para ver que comandos son más eficientes que otros:"
   ]
  },
  {
   "cell_type": "code",
   "execution_count": null,
   "metadata": {},
   "outputs": [],
   "source": [
    "print(\"Inicio\")\n",
    "%timeit list(range(10_000))\n",
    "print(\"Fin\")"
   ]
  },
  {
   "cell_type": "code",
   "execution_count": null,
   "metadata": {},
   "outputs": [],
   "source": [
    "%%timeit\n",
    "print(\"I\", end='')\n",
    "n = 10_000\n",
    "s = sum(range(n))\n",
    "print(\"F \", end='')"
   ]
  },
  {
   "cell_type": "markdown",
   "metadata": {},
   "source": [
    "Existen extensiones que se deben instalar, cargar para poder usarlas:"
   ]
  },
  {
   "cell_type": "code",
   "execution_count": null,
   "metadata": {},
   "outputs": [],
   "source": [
    "!pip install version_information\n",
    "%load_ext version_information\n",
    "%version_information pandas, numpy"
   ]
  },
  {
   "cell_type": "code",
   "execution_count": null,
   "metadata": {},
   "outputs": [],
   "source": [
    "%who"
   ]
  },
  {
   "cell_type": "code",
   "execution_count": null,
   "metadata": {},
   "outputs": [],
   "source": [
    "%whos"
   ]
  },
  {
   "cell_type": "markdown",
   "metadata": {},
   "source": [
    "También se pueden configurar las variables del sistema:"
   ]
  },
  {
   "cell_type": "code",
   "execution_count": null,
   "metadata": {},
   "outputs": [],
   "source": [
    "%env OMP_NUM_THREADS = 8"
   ]
  },
  {
   "cell_type": "markdown",
   "metadata": {},
   "source": [
    "Se puede escribir a un archivo:"
   ]
  },
  {
   "cell_type": "code",
   "execution_count": null,
   "metadata": {},
   "outputs": [],
   "source": [
    "%%writefile hello.py\n",
    "print(\"Este es un texto\")"
   ]
  },
  {
   "cell_type": "markdown",
   "metadata": {},
   "source": [
    "Y luego lo leemos:"
   ]
  },
  {
   "cell_type": "code",
   "execution_count": null,
   "metadata": {},
   "outputs": [],
   "source": [
    "%pycat hello.py"
   ]
  },
  {
   "cell_type": "markdown",
   "metadata": {},
   "source": [
    "E incluso lo ejecutamos:"
   ]
  },
  {
   "cell_type": "code",
   "execution_count": null,
   "metadata": {},
   "outputs": [],
   "source": [
    "%run hello.py"
   ]
  },
  {
   "cell_type": "markdown",
   "metadata": {},
   "source": [
    "Puedo ejecutar programas de la consola:"
   ]
  },
  {
   "cell_type": "code",
   "execution_count": null,
   "metadata": {},
   "outputs": [],
   "source": [
    "%%bash\n",
    "echo \"Mi shell es: \" $SHELL\n",
    "echo \"Mi disco duro lo tengo particionado así:\"\n",
    "df -h"
   ]
  },
  {
   "cell_type": "markdown",
   "metadata": {},
   "source": [
    "Puedo correr programas en otros ambientes:"
   ]
  },
  {
   "cell_type": "code",
   "execution_count": null,
   "metadata": {},
   "outputs": [],
   "source": [
    "%%perl\n",
    "@meses = (\"Enero\", \"Febrero\", \"Marzo\");\n",
    "foreach (@meses) {\n",
    "  print \"$_\\n\";\n",
    "}"
   ]
  },
  {
   "cell_type": "code",
   "execution_count": null,
   "metadata": {},
   "outputs": [],
   "source": [
    "%%ruby\n",
    "nombre = \"Diego\"\n",
    "puts \"Hola #{nombre.upcase}\""
   ]
  },
  {
   "cell_type": "markdown",
   "metadata": {},
   "source": [
    "Y puedo escribir las ecuaciones de equilibrio en LaTeX:"
   ]
  },
  {
   "cell_type": "code",
   "execution_count": null,
   "metadata": {},
   "outputs": [],
   "source": [
    "%%latex\n",
    "\\begin{align}\n",
    "\\frac{\\partial \\sigma_x(x,y,z)}{\\partial x}  + \\frac{\\partial \\tau_{xy}(x,y,z)}{\\partial y} + \\frac{\\partial \\tau_{xz}(x,y,z)}{\\partial z} + X(x,y,z) & = 0\\\\\n",
    "\\frac{\\partial \\tau_{xy}(x,y,z)}{\\partial x} + \\frac{\\partial \\sigma_y(x,y,z)}{\\partial y}  + \\frac{\\partial \\tau_{yz}(x,y,z)}{\\partial z} + Y(x,y,z) & = 0\\\\\n",
    "\\frac{\\partial \\tau_{xz}(x,y,z)}{\\partial x} + \\frac{\\partial \\tau_{yz}(x,y,z)}{\\partial y} + \\frac{\\partial \\sigma_z(x,y,z)}{\\partial z}  + Z(x,y,z) & = 0\n",
    "\\end{align}"
   ]
  },
  {
   "cell_type": "markdown",
   "metadata": {},
   "source": [
    "# Depurando programas"
   ]
  },
  {
   "cell_type": "code",
   "execution_count": null,
   "metadata": {},
   "outputs": [],
   "source": [
    "def f(x):\n",
    "    return 1/(x-1)\n",
    "\n",
    "def g(x):\n",
    "    return f(x+1)"
   ]
  },
  {
   "cell_type": "code",
   "execution_count": null,
   "metadata": {},
   "outputs": [],
   "source": [
    "g(0)"
   ]
  },
  {
   "cell_type": "markdown",
   "metadata": {},
   "source": [
    "Con `%debug` se miran las variables, se puede subir de ambiente con `up`, se sale con `quit`:"
   ]
  },
  {
   "cell_type": "code",
   "execution_count": null,
   "metadata": {},
   "outputs": [],
   "source": [
    "%debug"
   ]
  },
  {
   "cell_type": "markdown",
   "metadata": {},
   "source": [
    "# Widgets"
   ]
  },
  {
   "cell_type": "code",
   "execution_count": null,
   "metadata": {},
   "outputs": [],
   "source": [
    "from ipywidgets import interact\n",
    "\n",
    "@interact\n",
    "def show_args(num=(5,10), días=[5,6,7,8], text=\"hola\", check=True):\n",
    "    print (locals())"
   ]
  },
  {
   "cell_type": "markdown",
   "metadata": {},
   "source": [
    "Jupyter tutorials\n",
    "* https://www.youtube.com/watch?v=VQBZ2MqWBZI\n",
    "* https://www.youtube.com/watch?v=05fA_DXgW-Y\n",
    "* https://www.youtube.com/watch?v=NBZBjEjN-rU"
   ]
  },
  {
   "cell_type": "markdown",
   "metadata": {},
   "source": [
    "# Notas finales"
   ]
  },
  {
   "cell_type": "markdown",
   "metadata": {},
   "source": [
    "**nbviewer** es un servicio que permite convertir cualquier notebook en una páginas HTML: https://nbviewer.jupyter.org/"
   ]
  }
 ],
 "metadata": {
  "kernelspec": {
   "display_name": "Python 3 (ipykernel)",
   "language": "python",
   "name": "python3"
  },
  "language_info": {
   "codemirror_mode": {
    "name": "ipython",
    "version": 3
   },
   "file_extension": ".py",
   "mimetype": "text/x-python",
   "name": "python",
   "nbconvert_exporter": "python",
   "pygments_lexer": "ipython3",
   "version": "3.11.5"
  }
 },
 "nbformat": 4,
 "nbformat_minor": 4
}
